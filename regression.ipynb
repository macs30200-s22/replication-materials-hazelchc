{
 "cells": [
  {
   "cell_type": "code",
   "execution_count": 2,
   "id": "44f8d8dc",
   "metadata": {},
   "outputs": [],
   "source": [
    "import csv\n",
    "import sys\n",
    "import re\n",
    "import pandas as pd\n",
    "import requests\n",
    "import numpy as np\n",
    "import statsmodels.api as sm\n",
    "from statsmodels.formula.api import ols\n",
    "from statsmodels.iolib.summary2 import summary_col"
   ]
  },
  {
   "cell_type": "code",
   "execution_count": 3,
   "id": "fd95adb6",
   "metadata": {},
   "outputs": [
    {
     "name": "stdout",
     "output_type": "stream",
     "text": [
      "                            OLS Regression Results                            \n",
      "==============================================================================\n",
      "Dep. Variable:                 rating   R-squared:                       0.044\n",
      "Model:                            OLS   Adj. R-squared:                  0.018\n",
      "Method:                 Least Squares   F-statistic:                     1.704\n",
      "Date:                Mon, 25 Apr 2022   Prob (F-statistic):              0.170\n",
      "Time:                        20:58:01   Log-Likelihood:                -161.52\n",
      "No. Observations:                 116   AIC:                             331.0\n",
      "Df Residuals:                     112   BIC:                             342.0\n",
      "Df Model:                           3                                         \n",
      "Covariance Type:            nonrobust                                         \n",
      "==============================================================================\n",
      "                 coef    std err          t      P>|t|      [0.025      0.975]\n",
      "------------------------------------------------------------------------------\n",
      "const          7.6674      0.184     41.664      0.000       7.303       8.032\n",
      "winner         0.2870      0.260      1.103      0.272      -0.229       0.803\n",
      "period         0.1789      0.260      0.687      0.493      -0.337       0.695\n",
      "did           -0.7288      0.368     -1.980      0.050      -1.458       0.001\n",
      "==============================================================================\n",
      "Omnibus:                        4.618   Durbin-Watson:                   1.071\n",
      "Prob(Omnibus):                  0.099   Jarque-Bera (JB):                4.684\n",
      "Skew:                          -0.477   Prob(JB):                       0.0961\n",
      "Kurtosis:                       2.758   Cond. No.                         6.85\n",
      "==============================================================================\n",
      "\n",
      "Notes:\n",
      "[1] Standard Errors assume that the covariance matrix of the errors is correctly specified.\n"
     ]
    },
    {
     "name": "stderr",
     "output_type": "stream",
     "text": [
      "/opt/anaconda3/lib/python3.9/site-packages/statsmodels/tsa/tsatools.py:142: FutureWarning: In a future version of pandas all arguments of concat except for the argument 'objs' will be keyword-only\n",
      "  x = pd.concat(x[::order], 1)\n"
     ]
    }
   ],
   "source": [
    "# Import data and run regression\n",
    "final_data_2 = pd.read_csv('final_data_2010_2019.csv')\n",
    "final_data_2['did'] = final_data_2['winner'] * final_data_2['period']\n",
    "X = final_data_2[['winner', 'period', 'did']]\n",
    "y = final_data_2['rating']\n",
    "X = sm.add_constant(X)\n",
    "\n",
    "model1 = sm.OLS(y, X).fit()\n",
    "\n",
    "print_model = model1.summary()\n",
    "print(print_model)"
   ]
  },
  {
   "cell_type": "code",
   "execution_count": 4,
   "id": "0f4e767a",
   "metadata": {},
   "outputs": [
    {
     "name": "stdout",
     "output_type": "stream",
     "text": [
      "\n",
      "========================\n",
      "                 rating \n",
      "------------------------\n",
      "winner         0.2870   \n",
      "               (0.2603) \n",
      "period         0.1789   \n",
      "               (0.2603) \n",
      "did            -0.7288* \n",
      "               (0.3681) \n",
      "const          7.6674***\n",
      "               (0.1840) \n",
      "R-squared      0.0437   \n",
      "R-squared Adj. 0.0180   \n",
      "========================\n",
      "Standard errors in\n",
      "parentheses.\n",
      "* p<.1, ** p<.05,\n",
      "***p<.01\n"
     ]
    }
   ],
   "source": [
    "# Create a regression table\n",
    "dfoutput = summary_col([model1],stars=True, regressor_order=['winner', 'period','did'])\n",
    "print(dfoutput)"
   ]
  },
  {
   "cell_type": "code",
   "execution_count": null,
   "id": "9eb33dca",
   "metadata": {},
   "outputs": [],
   "source": []
  }
 ],
 "metadata": {
  "kernelspec": {
   "display_name": "Python 3 (ipykernel)",
   "language": "python",
   "name": "python3"
  },
  "language_info": {
   "codemirror_mode": {
    "name": "ipython",
    "version": 3
   },
   "file_extension": ".py",
   "mimetype": "text/x-python",
   "name": "python",
   "nbconvert_exporter": "python",
   "pygments_lexer": "ipython3",
   "version": "3.9.7"
  }
 },
 "nbformat": 4,
 "nbformat_minor": 5
}

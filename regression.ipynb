{
 "cells": [
  {
   "cell_type": "code",
   "execution_count": 9,
   "id": "44f8d8dc",
   "metadata": {},
   "outputs": [],
   "source": [
    "import csv\n",
    "import sys\n",
    "import re\n",
    "import pandas as pd\n",
    "import requests\n",
    "import numpy as np\n",
    "import statsmodels.api as sm\n",
    "from statsmodels.formula.api import ols\n",
    "from statsmodels.iolib.summary2 import summary_col"
   ]
  },
  {
   "cell_type": "code",
   "execution_count": 14,
   "id": "20720548",
   "metadata": {},
   "outputs": [
    {
     "name": "stdout",
     "output_type": "stream",
     "text": [
      "                            OLS Regression Results                            \n",
      "==============================================================================\n",
      "Dep. Variable:                 rating   R-squared:                       0.010\n",
      "Model:                            OLS   Adj. R-squared:                  0.010\n",
      "Method:                 Least Squares   F-statistic:                     231.6\n",
      "Date:                Mon, 23 May 2022   Prob (F-statistic):          7.97e-101\n",
      "Time:                        21:50:47   Log-Likelihood:            -1.1631e+05\n",
      "No. Observations:               47010   AIC:                         2.326e+05\n",
      "Df Residuals:                   47007   BIC:                         2.326e+05\n",
      "Df Model:                           2                                         \n",
      "Covariance Type:            nonrobust                                         \n",
      "==============================================================================\n",
      "                 coef    std err          t      P>|t|      [0.025      0.975]\n",
      "------------------------------------------------------------------------------\n",
      "const          7.0498      0.017    413.650      0.000       7.016       7.083\n",
      "winner         0.5416      0.032     17.056      0.000       0.479       0.604\n",
      "period        -0.4365      0.029    -15.024      0.000      -0.493      -0.380\n",
      "==============================================================================\n",
      "Omnibus:                     5065.713   Durbin-Watson:                   1.664\n",
      "Prob(Omnibus):                  0.000   Jarque-Bera (JB):             6290.403\n",
      "Skew:                          -0.871   Prob(JB):                         0.00\n",
      "Kurtosis:                       2.579   Cond. No.                         2.68\n",
      "==============================================================================\n",
      "\n",
      "Notes:\n",
      "[1] Standard Errors assume that the covariance matrix of the errors is correctly specified.\n"
     ]
    },
    {
     "name": "stderr",
     "output_type": "stream",
     "text": [
      "/opt/anaconda3/lib/python3.9/site-packages/statsmodels/tsa/tsatools.py:142: FutureWarning: In a future version of pandas all arguments of concat except for the argument 'objs' will be keyword-only\n",
      "  x = pd.concat(x[::order], 1)\n"
     ]
    }
   ],
   "source": [
    "# Import data and run regression\n",
    "# Model 1\n",
    "final_data_2 = pd.read_csv('final_decomp_2.csv')\n",
    "final_data_2 = final_data_2.loc[final_data_2['year'] != 2020]\n",
    "\n",
    "X = final_data_2[['winner', 'period']]\n",
    "y = final_data_2['rating']\n",
    "X = sm.add_constant(X)\n",
    "\n",
    "model1 = sm.OLS(y, X).fit()\n",
    "\n",
    "print_model = model1.summary()\n",
    "print(print_model)\n"
   ]
  },
  {
   "cell_type": "code",
   "execution_count": 13,
   "id": "a25322f8",
   "metadata": {},
   "outputs": [
    {
     "name": "stdout",
     "output_type": "stream",
     "text": [
      "                            OLS Regression Results                            \n",
      "==============================================================================\n",
      "Dep. Variable:                 rating   R-squared:                       0.012\n",
      "Model:                            OLS   Adj. R-squared:                  0.012\n",
      "Method:                 Least Squares   F-statistic:                     187.8\n",
      "Date:                Mon, 23 May 2022   Prob (F-statistic):          4.74e-121\n",
      "Time:                        21:49:44   Log-Likelihood:            -1.1626e+05\n",
      "No. Observations:               47010   AIC:                         2.325e+05\n",
      "Df Residuals:                   47006   BIC:                         2.326e+05\n",
      "Df Model:                           3                                         \n",
      "Covariance Type:            nonrobust                                         \n",
      "==============================================================================\n",
      "                 coef    std err          t      P>|t|      [0.025      0.975]\n",
      "------------------------------------------------------------------------------\n",
      "const          7.0025      0.018    396.207      0.000       6.968       7.037\n",
      "winner         0.7818      0.040     19.617      0.000       0.704       0.860\n",
      "period        -0.2634      0.034     -7.784      0.000      -0.330      -0.197\n",
      "did           -0.6555      0.066     -9.957      0.000      -0.784      -0.526\n",
      "==============================================================================\n",
      "Omnibus:                     5033.231   Durbin-Watson:                   1.668\n",
      "Prob(Omnibus):                  0.000   Jarque-Bera (JB):             6226.863\n",
      "Skew:                          -0.866   Prob(JB):                         0.00\n",
      "Kurtosis:                       2.577   Cond. No.                         6.08\n",
      "==============================================================================\n",
      "\n",
      "Notes:\n",
      "[1] Standard Errors assume that the covariance matrix of the errors is correctly specified.\n"
     ]
    },
    {
     "name": "stderr",
     "output_type": "stream",
     "text": [
      "/opt/anaconda3/lib/python3.9/site-packages/statsmodels/tsa/tsatools.py:142: FutureWarning: In a future version of pandas all arguments of concat except for the argument 'objs' will be keyword-only\n",
      "  x = pd.concat(x[::order], 1)\n"
     ]
    }
   ],
   "source": [
    "# Model 2\n",
    "final_data_2['did'] = final_data_2['winner'] * final_data_2['period']\n",
    "X = final_data_2[['winner', 'period', 'did']]\n",
    "y = final_data_2['rating']\n",
    "X = sm.add_constant(X)\n",
    "\n",
    "model2 = sm.OLS(y, X).fit()\n",
    "\n",
    "print_model = model2.summary()\n",
    "print(print_model)"
   ]
  },
  {
   "cell_type": "code",
   "execution_count": 15,
   "id": "6030a77b",
   "metadata": {},
   "outputs": [
    {
     "name": "stdout",
     "output_type": "stream",
     "text": [
      "\n",
      "====================================\n",
      "                rating I  rating II \n",
      "------------------------------------\n",
      "winner         0.5416***  0.7818*** \n",
      "               (0.0318)   (0.0399)  \n",
      "period         -0.4365*** -0.2634***\n",
      "               (0.0291)   (0.0338)  \n",
      "did                       -0.6555***\n",
      "                          (0.0658)  \n",
      "const          7.0498***  7.0025*** \n",
      "               (0.0170)   (0.0177)  \n",
      "R-squared      0.0098     0.0118    \n",
      "R-squared Adj. 0.0097     0.0118    \n",
      "====================================\n",
      "Standard errors in parentheses.\n",
      "* p<.1, ** p<.05, ***p<.01\n"
     ]
    }
   ],
   "source": [
    "# Create a regression table\n",
    "dfoutput = summary_col([model1, model2],stars=True, regressor_order=['winner', 'period','did'])\n",
    "print(dfoutput)"
   ]
  },
  {
   "cell_type": "code",
   "execution_count": 20,
   "id": "533742b0",
   "metadata": {},
   "outputs": [
    {
     "name": "stdout",
     "output_type": "stream",
     "text": [
      "                            OLS Regression Results                            \n",
      "==============================================================================\n",
      "Dep. Variable:     review_perc_change   R-squared:                       0.082\n",
      "Model:                            OLS   Adj. R-squared:                  0.082\n",
      "Method:                 Least Squares   F-statistic:                     1265.\n",
      "Date:                Mon, 23 May 2022   Prob (F-statistic):          2.01e-265\n",
      "Time:                        21:57:43   Log-Likelihood:                -79815.\n",
      "No. Observations:               14195   AIC:                         1.596e+05\n",
      "Df Residuals:                   14193   BIC:                         1.596e+05\n",
      "Df Model:                           1                                         \n",
      "Covariance Type:            nonrobust                                         \n",
      "==============================================================================\n",
      "                 coef    std err          t      P>|t|      [0.025      0.975]\n",
      "------------------------------------------------------------------------------\n",
      "const        -50.5221      0.673    -75.056      0.000     -51.842     -49.203\n",
      "winner        43.4725      1.222     35.562      0.000      41.076      45.869\n",
      "==============================================================================\n",
      "Omnibus:                    22330.652   Durbin-Watson:                   0.127\n",
      "Prob(Omnibus):                  0.000   Jarque-Bera (JB):         15147862.263\n",
      "Skew:                          10.095   Prob(JB):                         0.00\n",
      "Kurtosis:                     161.756   Cond. No.                         2.42\n",
      "==============================================================================\n",
      "\n",
      "Notes:\n",
      "[1] Standard Errors assume that the covariance matrix of the errors is correctly specified.\n"
     ]
    },
    {
     "name": "stderr",
     "output_type": "stream",
     "text": [
      "/opt/anaconda3/lib/python3.9/site-packages/statsmodels/tsa/tsatools.py:142: FutureWarning: In a future version of pandas all arguments of concat except for the argument 'objs' will be keyword-only\n",
      "  x = pd.concat(x[::order], 1)\n"
     ]
    }
   ],
   "source": [
    "# Model 3\n",
    "after = final_data_2.loc[final_data_2['period']==1]\n",
    "X = after[['winner']]\n",
    "y = after['review_perc_change']\n",
    "X = sm.add_constant(X)\n",
    "\n",
    "model3 = sm.OLS(y, X).fit()\n",
    "\n",
    "print_model = model3.summary()\n",
    "print(print_model)"
   ]
  },
  {
   "cell_type": "code",
   "execution_count": 22,
   "id": "416ef4c7",
   "metadata": {},
   "outputs": [
    {
     "name": "stdout",
     "output_type": "stream",
     "text": [
      "                            OLS Regression Results                            \n",
      "==============================================================================\n",
      "Dep. Variable:                 rating   R-squared:                       0.004\n",
      "Model:                            OLS   Adj. R-squared:                  0.004\n",
      "Method:                 Least Squares   F-statistic:                     19.40\n",
      "Date:                Mon, 23 May 2022   Prob (F-statistic):           1.52e-12\n",
      "Time:                        21:59:48   Log-Likelihood:                -35662.\n",
      "No. Observations:               14195   AIC:                         7.133e+04\n",
      "Df Residuals:                   14191   BIC:                         7.136e+04\n",
      "Df Model:                           3                                         \n",
      "Covariance Type:            nonrobust                                         \n",
      "======================================================================================\n",
      "                         coef    std err          t      P>|t|      [0.025      0.975]\n",
      "--------------------------------------------------------------------------------------\n",
      "const                  6.9480      0.045    154.859      0.000       6.860       7.036\n",
      "winner                -0.0943      0.064     -1.474      0.140      -0.220       0.031\n",
      "review_perc_change     0.0041      0.001      6.261      0.000       0.003       0.005\n",
      "interaction           -0.0058      0.001     -7.250      0.000      -0.007      -0.004\n",
      "==============================================================================\n",
      "Omnibus:                     1995.609   Durbin-Watson:                   1.669\n",
      "Prob(Omnibus):                  0.000   Jarque-Bera (JB):             1591.893\n",
      "Skew:                          -0.728   Prob(JB):                         0.00\n",
      "Kurtosis:                       2.244   Cond. No.                         262.\n",
      "==============================================================================\n",
      "\n",
      "Notes:\n",
      "[1] Standard Errors assume that the covariance matrix of the errors is correctly specified.\n"
     ]
    },
    {
     "name": "stderr",
     "output_type": "stream",
     "text": [
      "/var/folders/nk/mc55cdxs3h39bqv94923ds1m0000gn/T/ipykernel_3177/1283807718.py:2: SettingWithCopyWarning: \n",
      "A value is trying to be set on a copy of a slice from a DataFrame.\n",
      "Try using .loc[row_indexer,col_indexer] = value instead\n",
      "\n",
      "See the caveats in the documentation: https://pandas.pydata.org/pandas-docs/stable/user_guide/indexing.html#returning-a-view-versus-a-copy\n",
      "  after['interaction'] = after['winner'] * after['review_perc_change']\n",
      "/opt/anaconda3/lib/python3.9/site-packages/statsmodels/tsa/tsatools.py:142: FutureWarning: In a future version of pandas all arguments of concat except for the argument 'objs' will be keyword-only\n",
      "  x = pd.concat(x[::order], 1)\n"
     ]
    }
   ],
   "source": [
    "# Model 4\n",
    "after['interaction'] = after['winner'] * after['review_perc_change']\n",
    "X = after[['winner','review_perc_change', 'interaction']]\n",
    "y = after['rating']\n",
    "X = sm.add_constant(X)\n",
    "\n",
    "model4 = sm.OLS(y, X).fit()\n",
    "\n",
    "print_model = model4.summary()\n",
    "print(print_model)"
   ]
  },
  {
   "cell_type": "code",
   "execution_count": 25,
   "id": "644a943a",
   "metadata": {},
   "outputs": [
    {
     "name": "stdout",
     "output_type": "stream",
     "text": [
      "\n",
      "================================================\n",
      "                   review_perc_change   rating  \n",
      "------------------------------------------------\n",
      "winner             43.4725***         -0.0943   \n",
      "                   (1.2224)           (0.0640)  \n",
      "review_perc_change                    0.0041*** \n",
      "                                      (0.0007)  \n",
      "interaction                           -0.0058***\n",
      "                                      (0.0008)  \n",
      "const              -50.5221***        6.9480*** \n",
      "                   (0.6731)           (0.0449)  \n",
      "R-squared          0.0818             0.0041    \n",
      "R-squared Adj.     0.0818             0.0039    \n",
      "================================================\n",
      "Standard errors in parentheses.\n",
      "* p<.1, ** p<.05, ***p<.01\n"
     ]
    }
   ],
   "source": [
    "# Create a regression table\n",
    "dfoutput = summary_col([model3, model4],stars=True, regressor_order=['winner', 'review_perc_change','interaction'])\n",
    "print(dfoutput)"
   ]
  },
  {
   "cell_type": "code",
   "execution_count": null,
   "id": "c7136f0c",
   "metadata": {},
   "outputs": [],
   "source": []
  }
 ],
 "metadata": {
  "kernelspec": {
   "display_name": "Python 3 (ipykernel)",
   "language": "python",
   "name": "python3"
  },
  "language_info": {
   "codemirror_mode": {
    "name": "ipython",
    "version": 3
   },
   "file_extension": ".py",
   "mimetype": "text/x-python",
   "name": "python",
   "nbconvert_exporter": "python",
   "pygments_lexer": "ipython3",
   "version": "3.9.7"
  }
 },
 "nbformat": 4,
 "nbformat_minor": 5
}
